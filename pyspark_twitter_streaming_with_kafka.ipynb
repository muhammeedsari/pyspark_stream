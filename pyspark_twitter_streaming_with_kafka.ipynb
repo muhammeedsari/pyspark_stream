{
 "cells": [
  {
   "cell_type": "markdown",
   "id": "21e9beb8",
   "metadata": {},
   "source": [
    "# 1. Import Spark Libraries"
   ]
  },
  {
   "cell_type": "code",
   "execution_count": 147,
   "id": "ec7f7606",
   "metadata": {},
   "outputs": [],
   "source": [
    "import findspark\n",
    "findspark.init(\"/usr/local/spark-3.2.0-bin-hadoop3.2\")\n",
    "from IPython.display import display, clear_output\n",
    "from pyspark.sql import SparkSession, DataFrame\n",
    "from pyspark.sql.streaming import DataStreamReader\n",
    "from pyspark.sql import functions as f\n",
    "from pyspark.conf import SparkConf\n",
    "from pyspark import SparkContext\n",
    "from pyspark.sql import SQLContext\n",
    "from pyspark.sql.functions import *\n",
    "import html\n",
    "import numpy as np\n",
    "import json\n",
    "import matplotlib.pyplot as plt\n",
    "import pandas as pd\n",
    "import seaborn as sns\n",
    "pd.options.display.max_columns = None\n",
    "pd.options.display.max_rows = 250\n",
    "pd.options.display.max_colwidth = 150\n",
    "sns.set(color_codes=True)\n",
    "from pyspark.ml import PipelineModel\n",
    "from pyspark.sql.functions import udf\n",
    "from pyspark.sql.types import *\n",
    "import warnings\n",
    "warnings.filterwarnings('ignore')"
   ]
  },
  {
   "cell_type": "markdown",
   "id": "892f2a35",
   "metadata": {},
   "source": [
    "# 2. Build SparkSession"
   ]
  },
  {
   "cell_type": "code",
   "execution_count": 49,
   "id": "3e3752ee",
   "metadata": {},
   "outputs": [],
   "source": [
    "spark = SparkSession.builder\\\n",
    ".master(\"local[*]\") \\\n",
    ".appName(\"ml\") \\\n",
    ".config(\"spark.memory.fraction\",\"0.8\") \\\n",
    ".config(\"spark.executor.memory\",\"8g\") \\\n",
    ".config(\"spark.driver.memory\",\"8g\") \\\n",
    ".config(\"spark.sql.hive.filesourcePartitionFileCacheSize\", \"621440000\") \\\n",
    ".config(\"spark.sql.sources.bucketing.maxBuckets\", \"100000\") \\\n",
    ".config(\"spark.sql.shuffle.partitions\", \"2000\") \\\n",
    ".config(\"spark.driver.maxResultSize\",\"2g\") \\\n",
    ".config(\"spark.shuffle.file.buffer\",\"64k\") \\\n",
    ".config(\"spark.scheduler.listenerbus.eventqueue.capacity\", \"1000\") \\\n",
    ".config(\"spark.broadcast.blockSize\", \"8m\") \\\n",
    ".config(\"spark.sql.autoBroadcastJoinThreshold\", \"-1\") \\\n",
    ".config('spark.jars.packages', 'org.apache.spark:spark-sql-kafka-0-10_2.12:3.2.0')\\\n",
    ".getOrCreate()"
   ]
  },
  {
   "cell_type": "markdown",
   "id": "ebe9b289",
   "metadata": {},
   "source": [
    "# 3. Load Trained Model"
   ]
  },
  {
   "cell_type": "code",
   "execution_count": null,
   "id": "e572a9d0",
   "metadata": {},
   "outputs": [],
   "source": [
    "MODEL_PATH = \"/home/jovyan/work/lr_model/lr_sakarya_twitter_sentiment_analysis_model.pkl\"\n",
    "sentiment_model = PipelineModel.load(MODEL_PATH)"
   ]
  },
  {
   "cell_type": "markdown",
   "id": "d167093b",
   "metadata": {},
   "source": [
    "# 4. Build Spark Stream"
   ]
  },
  {
   "cell_type": "code",
   "execution_count": 30,
   "id": "52778a3f",
   "metadata": {},
   "outputs": [],
   "source": [
    "df_stream = spark \\\n",
    "  .readStream \\\n",
    "  .format(\"kafka\") \\\n",
    "  .option(\"kafka.bootstrap.servers\", \"159.223.22.116:9092\") \\\n",
    "  .option(\"subscribe\", \"tweet\") \\\n",
    "  .option(\"startingOffsets\", \"latest\") \\\n",
    "  .option(\"kafka.request.timeout.ms\", \"60000\") \\\n",
    "  .option(\"kafka.session.timeout.ms\", \"30000\") \\\n",
    "  .option(\"kafkaConsumer.pollTimeoutMs\", \"5120\") \\\n",
    "  .option(\"failOnDataLoss\", \"true\") \\\n",
    "  .option(\"fetchOffset.numRetries\", \"5\") \\\n",
    "  .load()"
   ]
  },
  {
   "cell_type": "markdown",
   "id": "c87a7306",
   "metadata": {},
   "source": [
    "# 5. Convert Data Coming from Kafka"
   ]
  },
  {
   "cell_type": "code",
   "execution_count": null,
   "id": "7d44a74f",
   "metadata": {},
   "outputs": [],
   "source": [
    "df_schema = StructType() \\\n",
    "        .add(\"createdAt\", IntegerType()) \\\n",
    "        .add(\"name\", StringType()) \\\n",
    "        .add(\"likeCount\", IntegerType()) \\\n",
    "        .add(\"quoteCount\", IntegerType()) \\\n",
    "        .add(\"replyCount\", IntegerType()) \\\n",
    "        .add(\"retweetCount\", IntegerType()) \\\n",
    "        .add(\"text\", StringType())\n",
    "\n",
    "df_stream_cast = df_stream.selectExpr(\"CAST(value AS STRING)\").select(from_json(col(\"value\"), df_schema).alias(\"values\"))\n",
    "df = df_stream_cast.select(\"values.*\")"
   ]
  },
  {
   "cell_type": "markdown",
   "id": "c9d2f564",
   "metadata": {},
   "source": [
    "# 6. Clean Data"
   ]
  },
  {
   "cell_type": "code",
   "execution_count": 149,
   "id": "b5a8aac5",
   "metadata": {},
   "outputs": [],
   "source": [
    "@udf\n",
    "def html_unescape(s: str):\n",
    "    if isinstance(s, str):\n",
    "        return html.unescape(s)\n",
    "    return s\n",
    "\n",
    "\n",
    "def clean_data(df: DataFrame):\n",
    "    url_regex = r\"((https?|ftp|file):\\/{2,3})+([-\\w+&@#/%=~|$?!:,.]*)|(www.)+([-\\w+&@#/%=~|$?!:,.]*)\"\n",
    "    email_regex = r\"[\\w.-]+@[\\w.-]+\\.[a-zA-Z]{1,}\"\n",
    "    user_regex = r\"(@\\w{1,15})\"\n",
    "    \n",
    "    return (\n",
    "        df\n",
    "        \n",
    "        .withColumn(\"original_text\", f.col(\"text\"))\n",
    "        \n",
    "        .withColumn(\"text\", f.regexp_replace(f.col(\"text\"), url_regex, \"\"))\n",
    "        .withColumn(\"text\", f.regexp_replace(f.col(\"text\"), email_regex, \"\"))\n",
    "        .withColumn(\"text\", f.regexp_replace(f.col(\"text\"), user_regex, \"\"))\n",
    "        .withColumn(\"text\", f.regexp_replace(f.col(\"text\"), \"#\", \" \"))\n",
    "        \n",
    "        .withColumn(\"text\", html_unescape(f.col(\"text\")))\n",
    "        \n",
    "        .withColumn(\"text\", f.regexp_replace(f.col(\"text\"), \"[^a-zA-Z']\", \" \"))\n",
    "        .withColumn(\"text\", f.regexp_replace(f.col(\"text\"), \" +\", \" \"))\n",
    "        .withColumn(\"text\", f.trim(f.col(\"text\")))\n",
    "        \n",
    "    \n",
    "        .filter(f.col(\"text\") != \"\").na.drop(subset=\"text\")\n",
    "    )\n",
    "\n",
    "df_clean=clean_data(df)\n"
   ]
  },
  {
   "cell_type": "markdown",
   "id": "56f559e4",
   "metadata": {},
   "source": [
    "# 7. Predict Sentiment Tweets "
   ]
  },
  {
   "cell_type": "code",
   "execution_count": 150,
   "id": "690598fb",
   "metadata": {},
   "outputs": [],
   "source": [
    "raw_sentiment = sentiment_model.transform(df_clean)"
   ]
  },
  {
   "cell_type": "markdown",
   "id": "6635ab2b",
   "metadata": {},
   "source": [
    "# 8. Real Time Predicted Sentiment Data"
   ]
  },
  {
   "cell_type": "code",
   "execution_count": 151,
   "id": "397c822c",
   "metadata": {},
   "outputs": [],
   "source": [
    "sentiment = raw_sentiment.select(\n",
    "    \"createdAt\", \"name\", \"likeCount\",\"quoteCount\",\"replyCount\",\n",
    "    \"retweetCount\",\"text\", \"original_text\",\n",
    "    f.col(\"prediction\").alias(\"user_sentiment\")\n",
    ")"
   ]
  },
  {
   "cell_type": "markdown",
   "id": "aa9a587c",
   "metadata": {},
   "source": [
    "# 9. Stream Aggregation Queries"
   ]
  },
  {
   "cell_type": "code",
   "execution_count": 8,
   "id": "06532120",
   "metadata": {},
   "outputs": [],
   "source": [
    "negative_sentiment_count = (\n",
    "    sentiment.filter(\"user_sentiment == 0\")\n",
    "    .select(f.col(\"user_sentiment\").alias(\"negative_sentiment\"))\n",
    "    .agg(f.count(\"negative_sentiment\"))\n",
    ")\n",
    "\n",
    "positive_sentiment_count = (\n",
    "    sentiment.filter(\"user_sentiment == 1\")\n",
    "    .select(f.col(\"user_sentiment\").alias(\"positive_sentiment\"))\n",
    "    .agg(f.count(\"positive_sentiment\"))\n",
    ")\n",
    "\n",
    "average_sentiment = sentiment.agg(f.avg(\"user_sentiment\"))"
   ]
  },
  {
   "cell_type": "markdown",
   "id": "f3ea0815",
   "metadata": {},
   "source": [
    "# 10. Real Time Predicted Data to Sink Kafka"
   ]
  },
  {
   "cell_type": "code",
   "execution_count": null,
   "id": "b214c053",
   "metadata": {},
   "outputs": [],
   "source": [
    "stream_writer = (\n",
    "    sentiment\n",
    "    .selectExpr(\"to_json(struct(*)) AS value\")\n",
    "    .writeStream\n",
    "    .queryName(\"emotion_sentiment\")\n",
    "    .format(\"kafka\") \\\n",
    "    .option(\"kafka.bootstrap.servers\", \"159.223.22.116:9092\")\n",
    "    .option(\"topic\", \"sentiment_topic\")\n",
    "    .option(\"checkpointLocation\", \"/home/jovyan/work/logs\")\n",
    ")\n",
    "\n",
    "query = stream_writer.start()"
   ]
  },
  {
   "cell_type": "code",
   "execution_count": 50,
   "id": "b296684b",
   "metadata": {},
   "outputs": [
    {
     "data": {
      "text/plain": [
       "'emotion_sentiment'"
      ]
     },
     "execution_count": 50,
     "metadata": {},
     "output_type": "execute_result"
    }
   ],
   "source": [
    "query.name"
   ]
  },
  {
   "cell_type": "markdown",
   "id": "772f8863",
   "metadata": {},
   "source": [
    "# 11. Real Time Agg Queries"
   ]
  },
  {
   "cell_type": "code",
   "execution_count": null,
   "id": "73af979c",
   "metadata": {},
   "outputs": [],
   "source": [
    "if df_clean.isStreaming:\n",
    "    display(query.lastProgress)"
   ]
  },
  {
   "cell_type": "code",
   "execution_count": null,
   "id": "3f852fcc",
   "metadata": {},
   "outputs": [],
   "source": [
    "stream_writer2 = (\n",
    "    positive_sentiment_count\n",
    "    .selectExpr(\"to_json(struct(*)) AS value\")\n",
    "    .writeStream\n",
    "    .outputMode(\"complete\")\n",
    "    .queryName(\"emotion_sentiment_agg\")\n",
    "    .format(\"kafka\") \\\n",
    "    .option(\"kafka.bootstrap.servers\", \"159.223.22.116:9092\")\n",
    "    .option(\"topic\", \"sentiment_agg_topic\")\n",
    "    .option(\"checkpointLocation\", \"/home/jovyan/work/logs2\")\n",
    ")\n",
    "\n",
    "query2 = stream_writer2.start()"
   ]
  },
  {
   "cell_type": "code",
   "execution_count": null,
   "id": "f3649bd9",
   "metadata": {},
   "outputs": [],
   "source": [
    "df_stream_cast2 = df_stream.selectExpr(\"CAST(value AS STRING)\", \"timestamp\") \\\n",
    ".select(from_json(col(\"value\"), df_schema) \\\n",
    "        .alias(\"values\"),\"timestamp\")\n",
    "df2 = df_stream_cast2.select(\"values.*\", \"timestamp\")\n",
    "\n",
    "df_clean2=clean_data(df2)\n",
    "\n",
    "raw_sentiment2 = sentiment_model.transform(df_clean2)\n",
    "\n",
    "\n",
    "sentiment2 = raw_sentiment2.select(\n",
    "    \"createdAt\", \"name\", \"likeCount\",\"quoteCount\",\"replyCount\",\n",
    "    \"retweetCount\",\"text\", \"original_text\", \"timestamp\",\n",
    "    f.col(\"prediction\").alias(\"user_sentiment\")\n",
    ")"
   ]
  },
  {
   "cell_type": "code",
   "execution_count": null,
   "id": "8a19b8eb",
   "metadata": {},
   "outputs": [],
   "source": [
    "sentiment_count = \\\n",
    "  sentiment2 \\\n",
    "    .withWatermark(\"timestamp\", \"2 minutes\") \\\n",
    "    .groupBy(\n",
    "      \"user_sentiment\", \"timestamp\") \\\n",
    "    .count()"
   ]
  },
  {
   "cell_type": "code",
   "execution_count": null,
   "id": "e03b8420",
   "metadata": {},
   "outputs": [],
   "source": [
    "stream_writer3 = (\n",
    "    sentiment_count\n",
    "    .selectExpr(\"to_json(struct(*)) AS value\")\n",
    "    .writeStream\n",
    "    .outputMode(\"append\")\n",
    "    .queryName(\"emotion_sentiment_agg2\")\n",
    "    .format(\"kafka\") \\\n",
    "    .option(\"kafka.bootstrap.servers\", \"159.223.22.116:9092\")\n",
    "    .option(\"topic\", \"sentiment_agg_groupby_topic\")\n",
    "    .option(\"checkpointLocation\", \"/home/jovyan/work/logs3\")\n",
    ")\n",
    "\n",
    "query3 = stream_writer3.start()"
   ]
  },
  {
   "cell_type": "code",
   "execution_count": null,
   "id": "1ca8c1bb",
   "metadata": {},
   "outputs": [],
   "source": [
    "words = df_clean2.withColumn('word', f.explode(f.split(f.col('original_text'), ' '))) \\\n",
    "    .withWatermark('timestamp', '2 minutes')\n",
    "wordCounts = words.groupBy('word', 'timestamp').count()"
   ]
  },
  {
   "cell_type": "code",
   "execution_count": null,
   "id": "a67ce9b3",
   "metadata": {},
   "outputs": [],
   "source": [
    "stream_writer4 = (\n",
    "    wordCounts\n",
    "    .selectExpr(\"to_json(struct(*)) AS value\")\n",
    "    .writeStream\n",
    "    .outputMode(\"append\")\n",
    "    .queryName(\"emotion_sentiment_word_agg\")\n",
    "    .format(\"kafka\") \\\n",
    "    .option(\"kafka.bootstrap.servers\", \"159.223.22.116:9092\")\n",
    "    .option(\"topic\", \"sentiment_word_agg_topic\")\n",
    "    .option(\"checkpointLocation\", \"/home/jovyan/work/logs4\")\n",
    ")\n",
    "\n",
    "query4 = stream_writer4.start()"
   ]
  },
  {
   "cell_type": "code",
   "execution_count": null,
   "id": "5e02031e",
   "metadata": {},
   "outputs": [],
   "source": [
    "words2 = df_clean2.withColumn('word', f.explode(f.split(f.col('original_text'), ' ')))\n",
    "wordCounts2 = words2.groupBy('word').count()"
   ]
  },
  {
   "cell_type": "code",
   "execution_count": null,
   "id": "2fe39a9e",
   "metadata": {},
   "outputs": [],
   "source": [
    "stream_writer5 = (\n",
    "    wordCounts2\n",
    "    .selectExpr(\"to_json(struct(*)) AS value\")\n",
    "    .writeStream\n",
    "    .outputMode(\"complete\")\n",
    "    .queryName(\"emotion_sentiment_word_agg3\")\n",
    "    .format(\"kafka\") \\\n",
    "    .option(\"kafka.bootstrap.servers\", \"159.223.22.116:9092\")\n",
    "    .option(\"topic\", \"sentiment_word_agg_topic2\")\n",
    "    .option(\"checkpointLocation\", \"/home/jovyan/work/logs5\")\n",
    ")\n",
    "\n",
    "query5 = stream_writer5.start()"
   ]
  },
  {
   "cell_type": "code",
   "execution_count": null,
   "id": "aac0b8e4",
   "metadata": {},
   "outputs": [],
   "source": [
    "query.isActive"
   ]
  },
  {
   "cell_type": "code",
   "execution_count": null,
   "id": "5ce1fe1e",
   "metadata": {},
   "outputs": [],
   "source": [
    "query2.isActive"
   ]
  },
  {
   "cell_type": "code",
   "execution_count": null,
   "id": "138c81c4",
   "metadata": {},
   "outputs": [],
   "source": [
    "query3.isActive"
   ]
  },
  {
   "cell_type": "code",
   "execution_count": null,
   "id": "d29ca84e",
   "metadata": {},
   "outputs": [],
   "source": [
    "query4.isActive"
   ]
  },
  {
   "cell_type": "code",
   "execution_count": null,
   "id": "e671272c",
   "metadata": {},
   "outputs": [],
   "source": [
    "query5.isActive"
   ]
  },
  {
   "cell_type": "code",
   "execution_count": null,
   "id": "724e251e",
   "metadata": {},
   "outputs": [],
   "source": [
    "df_clean.isStreaming"
   ]
  },
  {
   "cell_type": "code",
   "execution_count": null,
   "id": "2ac5274b",
   "metadata": {},
   "outputs": [],
   "source": [
    "query.explain()"
   ]
  },
  {
   "cell_type": "code",
   "execution_count": null,
   "id": "996f79ae",
   "metadata": {},
   "outputs": [],
   "source": [
    "display(query.lastProgress)"
   ]
  },
  {
   "cell_type": "code",
   "execution_count": null,
   "id": "e90d7ff1",
   "metadata": {},
   "outputs": [],
   "source": [
    "query.awaitTermination()"
   ]
  },
  {
   "cell_type": "code",
   "execution_count": null,
   "id": "bc9fb25b",
   "metadata": {},
   "outputs": [],
   "source": [
    "spark.streams.awaitAnyTermination()"
   ]
  },
  {
   "cell_type": "code",
   "execution_count": 80,
   "id": "47627cfc",
   "metadata": {},
   "outputs": [],
   "source": [
    "query.stop()"
   ]
  },
  {
   "cell_type": "code",
   "execution_count": 99,
   "id": "d147a6ec",
   "metadata": {},
   "outputs": [],
   "source": [
    "query2.stop()"
   ]
  },
  {
   "cell_type": "code",
   "execution_count": null,
   "id": "0cf6eaf2",
   "metadata": {},
   "outputs": [],
   "source": [
    "query3.stop()"
   ]
  },
  {
   "cell_type": "code",
   "execution_count": null,
   "id": "3c492355",
   "metadata": {},
   "outputs": [],
   "source": [
    "query4.stop()"
   ]
  },
  {
   "cell_type": "code",
   "execution_count": null,
   "id": "1ac5d57c",
   "metadata": {},
   "outputs": [],
   "source": [
    "query5.stop()"
   ]
  },
  {
   "cell_type": "code",
   "execution_count": null,
   "id": "73f9d22a",
   "metadata": {},
   "outputs": [],
   "source": [
    "spark.stop()"
   ]
  }
 ],
 "metadata": {
  "kernelspec": {
   "display_name": "Python 3 (ipykernel)",
   "language": "python",
   "name": "python3"
  },
  "language_info": {
   "codemirror_mode": {
    "name": "ipython",
    "version": 3
   },
   "file_extension": ".py",
   "mimetype": "text/x-python",
   "name": "python",
   "nbconvert_exporter": "python",
   "pygments_lexer": "ipython3",
   "version": "3.9.7"
  }
 },
 "nbformat": 4,
 "nbformat_minor": 5
}
